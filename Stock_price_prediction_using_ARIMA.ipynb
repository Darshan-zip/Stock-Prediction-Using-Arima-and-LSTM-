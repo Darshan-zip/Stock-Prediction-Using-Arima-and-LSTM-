{
  "nbformat": 4,
  "nbformat_minor": 0,
  "metadata": {
    "colab": {
      "provenance": []
    },
    "kernelspec": {
      "name": "python3",
      "display_name": "Python 3"
    },
    "language_info": {
      "name": "python"
    }
  },
  "cells": [
    {
      "cell_type": "code",
      "source": [
        "from IPython.core.debugger import set_trace\n",
        "import yfinance as yf\n",
        "import pandas as pd\n",
        "import numpy as np\n",
        "import os\n",
        "import matplotlib.pyplot as plt\n",
        "import time\n",
        "\n",
        "%matplotlib inline\n"
      ],
      "metadata": {
        "id": "N15k6WelECQy"
      },
      "execution_count": null,
      "outputs": []
    },
    {
      "cell_type": "code",
      "source": [
        "df=pd.read_csv('MSFT.csv')\n",
        "df.tail()"
      ],
      "metadata": {
        "colab": {
          "base_uri": "https://localhost:8080/",
          "height": 206
        },
        "id": "6E0sKvznEtYL",
        "outputId": "401e2777-e400-433e-e16e-40bdff7dec73"
      },
      "execution_count": null,
      "outputs": [
        {
          "output_type": "execute_result",
          "data": {
            "text/plain": [
              "            date    open     high       low   close    volume\n",
              "9739  2024-11-04  409.80  410.415  405.5713  408.46  19308950\n",
              "9740  2024-11-05  408.37  414.900  408.0800  411.46  17437067\n",
              "9741  2024-11-06  412.42  420.450  410.5200  420.18  26848000\n",
              "9742  2024-11-07  421.28  426.850  419.8800  425.43  19619533\n",
              "9743  2024-11-08  425.32  426.500  421.7800  422.54  16688787"
            ],
            "text/html": [
              "\n",
              "  <div id=\"df-7d4d0705-b643-47b8-89a9-db2f2398072d\" class=\"colab-df-container\">\n",
              "    <div>\n",
              "<style scoped>\n",
              "    .dataframe tbody tr th:only-of-type {\n",
              "        vertical-align: middle;\n",
              "    }\n",
              "\n",
              "    .dataframe tbody tr th {\n",
              "        vertical-align: top;\n",
              "    }\n",
              "\n",
              "    .dataframe thead th {\n",
              "        text-align: right;\n",
              "    }\n",
              "</style>\n",
              "<table border=\"1\" class=\"dataframe\">\n",
              "  <thead>\n",
              "    <tr style=\"text-align: right;\">\n",
              "      <th></th>\n",
              "      <th>date</th>\n",
              "      <th>open</th>\n",
              "      <th>high</th>\n",
              "      <th>low</th>\n",
              "      <th>close</th>\n",
              "      <th>volume</th>\n",
              "    </tr>\n",
              "  </thead>\n",
              "  <tbody>\n",
              "    <tr>\n",
              "      <th>9739</th>\n",
              "      <td>2024-11-04</td>\n",
              "      <td>409.80</td>\n",
              "      <td>410.415</td>\n",
              "      <td>405.5713</td>\n",
              "      <td>408.46</td>\n",
              "      <td>19308950</td>\n",
              "    </tr>\n",
              "    <tr>\n",
              "      <th>9740</th>\n",
              "      <td>2024-11-05</td>\n",
              "      <td>408.37</td>\n",
              "      <td>414.900</td>\n",
              "      <td>408.0800</td>\n",
              "      <td>411.46</td>\n",
              "      <td>17437067</td>\n",
              "    </tr>\n",
              "    <tr>\n",
              "      <th>9741</th>\n",
              "      <td>2024-11-06</td>\n",
              "      <td>412.42</td>\n",
              "      <td>420.450</td>\n",
              "      <td>410.5200</td>\n",
              "      <td>420.18</td>\n",
              "      <td>26848000</td>\n",
              "    </tr>\n",
              "    <tr>\n",
              "      <th>9742</th>\n",
              "      <td>2024-11-07</td>\n",
              "      <td>421.28</td>\n",
              "      <td>426.850</td>\n",
              "      <td>419.8800</td>\n",
              "      <td>425.43</td>\n",
              "      <td>19619533</td>\n",
              "    </tr>\n",
              "    <tr>\n",
              "      <th>9743</th>\n",
              "      <td>2024-11-08</td>\n",
              "      <td>425.32</td>\n",
              "      <td>426.500</td>\n",
              "      <td>421.7800</td>\n",
              "      <td>422.54</td>\n",
              "      <td>16688787</td>\n",
              "    </tr>\n",
              "  </tbody>\n",
              "</table>\n",
              "</div>\n",
              "    <div class=\"colab-df-buttons\">\n",
              "\n",
              "  <div class=\"colab-df-container\">\n",
              "    <button class=\"colab-df-convert\" onclick=\"convertToInteractive('df-7d4d0705-b643-47b8-89a9-db2f2398072d')\"\n",
              "            title=\"Convert this dataframe to an interactive table.\"\n",
              "            style=\"display:none;\">\n",
              "\n",
              "  <svg xmlns=\"http://www.w3.org/2000/svg\" height=\"24px\" viewBox=\"0 -960 960 960\">\n",
              "    <path d=\"M120-120v-720h720v720H120Zm60-500h600v-160H180v160Zm220 220h160v-160H400v160Zm0 220h160v-160H400v160ZM180-400h160v-160H180v160Zm440 0h160v-160H620v160ZM180-180h160v-160H180v160Zm440 0h160v-160H620v160Z\"/>\n",
              "  </svg>\n",
              "    </button>\n",
              "\n",
              "  <style>\n",
              "    .colab-df-container {\n",
              "      display:flex;\n",
              "      gap: 12px;\n",
              "    }\n",
              "\n",
              "    .colab-df-convert {\n",
              "      background-color: #E8F0FE;\n",
              "      border: none;\n",
              "      border-radius: 50%;\n",
              "      cursor: pointer;\n",
              "      display: none;\n",
              "      fill: #1967D2;\n",
              "      height: 32px;\n",
              "      padding: 0 0 0 0;\n",
              "      width: 32px;\n",
              "    }\n",
              "\n",
              "    .colab-df-convert:hover {\n",
              "      background-color: #E2EBFA;\n",
              "      box-shadow: 0px 1px 2px rgba(60, 64, 67, 0.3), 0px 1px 3px 1px rgba(60, 64, 67, 0.15);\n",
              "      fill: #174EA6;\n",
              "    }\n",
              "\n",
              "    .colab-df-buttons div {\n",
              "      margin-bottom: 4px;\n",
              "    }\n",
              "\n",
              "    [theme=dark] .colab-df-convert {\n",
              "      background-color: #3B4455;\n",
              "      fill: #D2E3FC;\n",
              "    }\n",
              "\n",
              "    [theme=dark] .colab-df-convert:hover {\n",
              "      background-color: #434B5C;\n",
              "      box-shadow: 0px 1px 3px 1px rgba(0, 0, 0, 0.15);\n",
              "      filter: drop-shadow(0px 1px 2px rgba(0, 0, 0, 0.3));\n",
              "      fill: #FFFFFF;\n",
              "    }\n",
              "  </style>\n",
              "\n",
              "    <script>\n",
              "      const buttonEl =\n",
              "        document.querySelector('#df-7d4d0705-b643-47b8-89a9-db2f2398072d button.colab-df-convert');\n",
              "      buttonEl.style.display =\n",
              "        google.colab.kernel.accessAllowed ? 'block' : 'none';\n",
              "\n",
              "      async function convertToInteractive(key) {\n",
              "        const element = document.querySelector('#df-7d4d0705-b643-47b8-89a9-db2f2398072d');\n",
              "        const dataTable =\n",
              "          await google.colab.kernel.invokeFunction('convertToInteractive',\n",
              "                                                    [key], {});\n",
              "        if (!dataTable) return;\n",
              "\n",
              "        const docLinkHtml = 'Like what you see? Visit the ' +\n",
              "          '<a target=\"_blank\" href=https://colab.research.google.com/notebooks/data_table.ipynb>data table notebook</a>'\n",
              "          + ' to learn more about interactive tables.';\n",
              "        element.innerHTML = '';\n",
              "        dataTable['output_type'] = 'display_data';\n",
              "        await google.colab.output.renderOutput(dataTable, element);\n",
              "        const docLink = document.createElement('div');\n",
              "        docLink.innerHTML = docLinkHtml;\n",
              "        element.appendChild(docLink);\n",
              "      }\n",
              "    </script>\n",
              "  </div>\n",
              "\n",
              "\n",
              "<div id=\"df-eb656f56-ca2b-4dc8-aac8-9467d5f2b675\">\n",
              "  <button class=\"colab-df-quickchart\" onclick=\"quickchart('df-eb656f56-ca2b-4dc8-aac8-9467d5f2b675')\"\n",
              "            title=\"Suggest charts\"\n",
              "            style=\"display:none;\">\n",
              "\n",
              "<svg xmlns=\"http://www.w3.org/2000/svg\" height=\"24px\"viewBox=\"0 0 24 24\"\n",
              "     width=\"24px\">\n",
              "    <g>\n",
              "        <path d=\"M19 3H5c-1.1 0-2 .9-2 2v14c0 1.1.9 2 2 2h14c1.1 0 2-.9 2-2V5c0-1.1-.9-2-2-2zM9 17H7v-7h2v7zm4 0h-2V7h2v10zm4 0h-2v-4h2v4z\"/>\n",
              "    </g>\n",
              "</svg>\n",
              "  </button>\n",
              "\n",
              "<style>\n",
              "  .colab-df-quickchart {\n",
              "      --bg-color: #E8F0FE;\n",
              "      --fill-color: #1967D2;\n",
              "      --hover-bg-color: #E2EBFA;\n",
              "      --hover-fill-color: #174EA6;\n",
              "      --disabled-fill-color: #AAA;\n",
              "      --disabled-bg-color: #DDD;\n",
              "  }\n",
              "\n",
              "  [theme=dark] .colab-df-quickchart {\n",
              "      --bg-color: #3B4455;\n",
              "      --fill-color: #D2E3FC;\n",
              "      --hover-bg-color: #434B5C;\n",
              "      --hover-fill-color: #FFFFFF;\n",
              "      --disabled-bg-color: #3B4455;\n",
              "      --disabled-fill-color: #666;\n",
              "  }\n",
              "\n",
              "  .colab-df-quickchart {\n",
              "    background-color: var(--bg-color);\n",
              "    border: none;\n",
              "    border-radius: 50%;\n",
              "    cursor: pointer;\n",
              "    display: none;\n",
              "    fill: var(--fill-color);\n",
              "    height: 32px;\n",
              "    padding: 0;\n",
              "    width: 32px;\n",
              "  }\n",
              "\n",
              "  .colab-df-quickchart:hover {\n",
              "    background-color: var(--hover-bg-color);\n",
              "    box-shadow: 0 1px 2px rgba(60, 64, 67, 0.3), 0 1px 3px 1px rgba(60, 64, 67, 0.15);\n",
              "    fill: var(--button-hover-fill-color);\n",
              "  }\n",
              "\n",
              "  .colab-df-quickchart-complete:disabled,\n",
              "  .colab-df-quickchart-complete:disabled:hover {\n",
              "    background-color: var(--disabled-bg-color);\n",
              "    fill: var(--disabled-fill-color);\n",
              "    box-shadow: none;\n",
              "  }\n",
              "\n",
              "  .colab-df-spinner {\n",
              "    border: 2px solid var(--fill-color);\n",
              "    border-color: transparent;\n",
              "    border-bottom-color: var(--fill-color);\n",
              "    animation:\n",
              "      spin 1s steps(1) infinite;\n",
              "  }\n",
              "\n",
              "  @keyframes spin {\n",
              "    0% {\n",
              "      border-color: transparent;\n",
              "      border-bottom-color: var(--fill-color);\n",
              "      border-left-color: var(--fill-color);\n",
              "    }\n",
              "    20% {\n",
              "      border-color: transparent;\n",
              "      border-left-color: var(--fill-color);\n",
              "      border-top-color: var(--fill-color);\n",
              "    }\n",
              "    30% {\n",
              "      border-color: transparent;\n",
              "      border-left-color: var(--fill-color);\n",
              "      border-top-color: var(--fill-color);\n",
              "      border-right-color: var(--fill-color);\n",
              "    }\n",
              "    40% {\n",
              "      border-color: transparent;\n",
              "      border-right-color: var(--fill-color);\n",
              "      border-top-color: var(--fill-color);\n",
              "    }\n",
              "    60% {\n",
              "      border-color: transparent;\n",
              "      border-right-color: var(--fill-color);\n",
              "    }\n",
              "    80% {\n",
              "      border-color: transparent;\n",
              "      border-right-color: var(--fill-color);\n",
              "      border-bottom-color: var(--fill-color);\n",
              "    }\n",
              "    90% {\n",
              "      border-color: transparent;\n",
              "      border-bottom-color: var(--fill-color);\n",
              "    }\n",
              "  }\n",
              "</style>\n",
              "\n",
              "  <script>\n",
              "    async function quickchart(key) {\n",
              "      const quickchartButtonEl =\n",
              "        document.querySelector('#' + key + ' button');\n",
              "      quickchartButtonEl.disabled = true;  // To prevent multiple clicks.\n",
              "      quickchartButtonEl.classList.add('colab-df-spinner');\n",
              "      try {\n",
              "        const charts = await google.colab.kernel.invokeFunction(\n",
              "            'suggestCharts', [key], {});\n",
              "      } catch (error) {\n",
              "        console.error('Error during call to suggestCharts:', error);\n",
              "      }\n",
              "      quickchartButtonEl.classList.remove('colab-df-spinner');\n",
              "      quickchartButtonEl.classList.add('colab-df-quickchart-complete');\n",
              "    }\n",
              "    (() => {\n",
              "      let quickchartButtonEl =\n",
              "        document.querySelector('#df-eb656f56-ca2b-4dc8-aac8-9467d5f2b675 button');\n",
              "      quickchartButtonEl.style.display =\n",
              "        google.colab.kernel.accessAllowed ? 'block' : 'none';\n",
              "    })();\n",
              "  </script>\n",
              "</div>\n",
              "\n",
              "    </div>\n",
              "  </div>\n"
            ],
            "application/vnd.google.colaboratory.intrinsic+json": {
              "type": "dataframe",
              "repr_error": "0"
            }
          },
          "metadata": {},
          "execution_count": 5
        }
      ]
    },
    {
      "cell_type": "code",
      "source": [
        "df=df['close'].copy()\n",
        "\n",
        "df"
      ],
      "metadata": {
        "colab": {
          "base_uri": "https://localhost:8080/",
          "height": 458
        },
        "id": "bXKvbIZDGLWS",
        "outputId": "6d59751c-da83-4bb9-efa7-0c91ebfd5395"
      },
      "execution_count": null,
      "outputs": [
        {
          "output_type": "execute_result",
          "data": {
            "text/plain": [
              "0         0.0603\n",
              "1         0.0624\n",
              "2         0.0635\n",
              "3         0.0619\n",
              "4         0.0608\n",
              "          ...   \n",
              "9739    408.4600\n",
              "9740    411.4600\n",
              "9741    420.1800\n",
              "9742    425.4300\n",
              "9743    422.5400\n",
              "Name: close, Length: 9744, dtype: float64"
            ],
            "text/html": [
              "<div>\n",
              "<style scoped>\n",
              "    .dataframe tbody tr th:only-of-type {\n",
              "        vertical-align: middle;\n",
              "    }\n",
              "\n",
              "    .dataframe tbody tr th {\n",
              "        vertical-align: top;\n",
              "    }\n",
              "\n",
              "    .dataframe thead th {\n",
              "        text-align: right;\n",
              "    }\n",
              "</style>\n",
              "<table border=\"1\" class=\"dataframe\">\n",
              "  <thead>\n",
              "    <tr style=\"text-align: right;\">\n",
              "      <th></th>\n",
              "      <th>close</th>\n",
              "    </tr>\n",
              "  </thead>\n",
              "  <tbody>\n",
              "    <tr>\n",
              "      <th>0</th>\n",
              "      <td>0.0603</td>\n",
              "    </tr>\n",
              "    <tr>\n",
              "      <th>1</th>\n",
              "      <td>0.0624</td>\n",
              "    </tr>\n",
              "    <tr>\n",
              "      <th>2</th>\n",
              "      <td>0.0635</td>\n",
              "    </tr>\n",
              "    <tr>\n",
              "      <th>3</th>\n",
              "      <td>0.0619</td>\n",
              "    </tr>\n",
              "    <tr>\n",
              "      <th>4</th>\n",
              "      <td>0.0608</td>\n",
              "    </tr>\n",
              "    <tr>\n",
              "      <th>...</th>\n",
              "      <td>...</td>\n",
              "    </tr>\n",
              "    <tr>\n",
              "      <th>9739</th>\n",
              "      <td>408.4600</td>\n",
              "    </tr>\n",
              "    <tr>\n",
              "      <th>9740</th>\n",
              "      <td>411.4600</td>\n",
              "    </tr>\n",
              "    <tr>\n",
              "      <th>9741</th>\n",
              "      <td>420.1800</td>\n",
              "    </tr>\n",
              "    <tr>\n",
              "      <th>9742</th>\n",
              "      <td>425.4300</td>\n",
              "    </tr>\n",
              "    <tr>\n",
              "      <th>9743</th>\n",
              "      <td>422.5400</td>\n",
              "    </tr>\n",
              "  </tbody>\n",
              "</table>\n",
              "<p>9744 rows × 1 columns</p>\n",
              "</div><br><label><b>dtype:</b> float64</label>"
            ]
          },
          "metadata": {},
          "execution_count": 6
        }
      ]
    },
    {
      "cell_type": "code",
      "source": [
        "df.describe()"
      ],
      "metadata": {
        "colab": {
          "base_uri": "https://localhost:8080/",
          "height": 334
        },
        "id": "G8EqgdryHTXE",
        "outputId": "4b849848-c6d5-4807-a8bf-76f83cf61ea1"
      },
      "execution_count": null,
      "outputs": [
        {
          "output_type": "execute_result",
          "data": {
            "text/plain": [
              "count    9744.000000\n",
              "mean       55.491829\n",
              "std        95.037918\n",
              "min         0.056000\n",
              "25%         3.601475\n",
              "50%        19.299250\n",
              "75%        39.671375\n",
              "max       466.728600\n",
              "Name: close, dtype: float64"
            ],
            "text/html": [
              "<div>\n",
              "<style scoped>\n",
              "    .dataframe tbody tr th:only-of-type {\n",
              "        vertical-align: middle;\n",
              "    }\n",
              "\n",
              "    .dataframe tbody tr th {\n",
              "        vertical-align: top;\n",
              "    }\n",
              "\n",
              "    .dataframe thead th {\n",
              "        text-align: right;\n",
              "    }\n",
              "</style>\n",
              "<table border=\"1\" class=\"dataframe\">\n",
              "  <thead>\n",
              "    <tr style=\"text-align: right;\">\n",
              "      <th></th>\n",
              "      <th>close</th>\n",
              "    </tr>\n",
              "  </thead>\n",
              "  <tbody>\n",
              "    <tr>\n",
              "      <th>count</th>\n",
              "      <td>9744.000000</td>\n",
              "    </tr>\n",
              "    <tr>\n",
              "      <th>mean</th>\n",
              "      <td>55.491829</td>\n",
              "    </tr>\n",
              "    <tr>\n",
              "      <th>std</th>\n",
              "      <td>95.037918</td>\n",
              "    </tr>\n",
              "    <tr>\n",
              "      <th>min</th>\n",
              "      <td>0.056000</td>\n",
              "    </tr>\n",
              "    <tr>\n",
              "      <th>25%</th>\n",
              "      <td>3.601475</td>\n",
              "    </tr>\n",
              "    <tr>\n",
              "      <th>50%</th>\n",
              "      <td>19.299250</td>\n",
              "    </tr>\n",
              "    <tr>\n",
              "      <th>75%</th>\n",
              "      <td>39.671375</td>\n",
              "    </tr>\n",
              "    <tr>\n",
              "      <th>max</th>\n",
              "      <td>466.728600</td>\n",
              "    </tr>\n",
              "  </tbody>\n",
              "</table>\n",
              "</div><br><label><b>dtype:</b> float64</label>"
            ]
          },
          "metadata": {},
          "execution_count": 7
        }
      ]
    },
    {
      "cell_type": "code",
      "source": [
        "from statsmodels.tsa.stattools import adfuller\n",
        "result=adfuller(df.dropna())\n",
        "print('ADF Statistic: %f' % result[0])\n",
        "print('p-value: %f' % result[1])"
      ],
      "metadata": {
        "colab": {
          "base_uri": "https://localhost:8080/"
        },
        "id": "EWllEA9qHWPD",
        "outputId": "7a3f2e5a-e5d2-4a0e-d0cd-4dcacdaab328"
      },
      "execution_count": null,
      "outputs": [
        {
          "output_type": "stream",
          "name": "stdout",
          "text": [
            "ADF Statistic: 4.769868\n",
            "p-value: 1.000000\n"
          ]
        }
      ]
    },
    {
      "cell_type": "code",
      "source": [
        "from statsmodels.graphics.tsaplots import plot_acf, plot_pacf\n",
        "fig,(ax1,ax2)=plt.subplots(1,2,figsize=(16,4))\n",
        "ax1.plot(df)\n",
        "ax1.set_title('Original Series')\n",
        "plot_acf(df,ax=ax2)\n",
        "plt.show()\n"
      ],
      "metadata": {
        "id": "WZ2iAVQDLlPM"
      },
      "execution_count": null,
      "outputs": []
    },
    {
      "cell_type": "code",
      "source": [
        "diff=df.diff().dropna()\n",
        "fig,(ax1,ax2)=plt.subplots(1,2,figsize=(16,4))\n",
        "ax1.plot(diff)\n",
        "ax1.set_title('Differenced Series')\n",
        "plot_acf(diff,ax=ax2)\n",
        "plt.show()"
      ],
      "metadata": {
        "id": "47_20jWnQVb3"
      },
      "execution_count": null,
      "outputs": []
    },
    {
      "cell_type": "code",
      "source": [
        "diff=df.diff().diff().dropna()\n",
        "fig,(ax1,ax2)=plt.subplots(1,2,figsize=(16,4))\n",
        "ax1.plot(diff)\n",
        "ax1.set_title('Differenced Series')\n",
        "plot_acf(diff,ax=ax2)\n",
        "plt.show()"
      ],
      "metadata": {
        "id": "eCKte22BQ0n8"
      },
      "execution_count": null,
      "outputs": []
    },
    {
      "cell_type": "code",
      "source": [
        "!pip install pmdarima\n",
        "from pmdarima.arima.utils import ndiffs\n"
      ],
      "metadata": {
        "colab": {
          "base_uri": "https://localhost:8080/"
        },
        "id": "RRR98lsJQu48",
        "outputId": "ff023d43-e802-467d-9809-1a9f3ae4c390"
      },
      "execution_count": null,
      "outputs": [
        {
          "output_type": "stream",
          "name": "stdout",
          "text": [
            "Collecting pmdarima\n",
            "  Downloading pmdarima-2.0.4-cp310-cp310-manylinux_2_17_x86_64.manylinux2014_x86_64.manylinux_2_28_x86_64.whl.metadata (7.8 kB)\n",
            "Requirement already satisfied: joblib>=0.11 in /usr/local/lib/python3.10/dist-packages (from pmdarima) (1.4.2)\n",
            "Requirement already satisfied: Cython!=0.29.18,!=0.29.31,>=0.29 in /usr/local/lib/python3.10/dist-packages (from pmdarima) (3.0.11)\n",
            "Requirement already satisfied: numpy>=1.21.2 in /usr/local/lib/python3.10/dist-packages (from pmdarima) (1.26.4)\n",
            "Requirement already satisfied: pandas>=0.19 in /usr/local/lib/python3.10/dist-packages (from pmdarima) (2.2.2)\n",
            "Requirement already satisfied: scikit-learn>=0.22 in /usr/local/lib/python3.10/dist-packages (from pmdarima) (1.5.2)\n",
            "Requirement already satisfied: scipy>=1.3.2 in /usr/local/lib/python3.10/dist-packages (from pmdarima) (1.13.1)\n",
            "Requirement already satisfied: statsmodels>=0.13.2 in /usr/local/lib/python3.10/dist-packages (from pmdarima) (0.14.4)\n",
            "Requirement already satisfied: urllib3 in /usr/local/lib/python3.10/dist-packages (from pmdarima) (2.2.3)\n",
            "Requirement already satisfied: setuptools!=50.0.0,>=38.6.0 in /usr/local/lib/python3.10/dist-packages (from pmdarima) (75.1.0)\n",
            "Requirement already satisfied: packaging>=17.1 in /usr/local/lib/python3.10/dist-packages (from pmdarima) (24.2)\n",
            "Requirement already satisfied: python-dateutil>=2.8.2 in /usr/local/lib/python3.10/dist-packages (from pandas>=0.19->pmdarima) (2.8.2)\n",
            "Requirement already satisfied: pytz>=2020.1 in /usr/local/lib/python3.10/dist-packages (from pandas>=0.19->pmdarima) (2024.2)\n",
            "Requirement already satisfied: tzdata>=2022.7 in /usr/local/lib/python3.10/dist-packages (from pandas>=0.19->pmdarima) (2024.2)\n",
            "Requirement already satisfied: threadpoolctl>=3.1.0 in /usr/local/lib/python3.10/dist-packages (from scikit-learn>=0.22->pmdarima) (3.5.0)\n",
            "Requirement already satisfied: patsy>=0.5.6 in /usr/local/lib/python3.10/dist-packages (from statsmodels>=0.13.2->pmdarima) (1.0.1)\n",
            "Requirement already satisfied: six>=1.5 in /usr/local/lib/python3.10/dist-packages (from python-dateutil>=2.8.2->pandas>=0.19->pmdarima) (1.16.0)\n",
            "Downloading pmdarima-2.0.4-cp310-cp310-manylinux_2_17_x86_64.manylinux2014_x86_64.manylinux_2_28_x86_64.whl (2.1 MB)\n",
            "\u001b[2K   \u001b[90m━━━━━━━━━━━━━━━━━━━━━━━━━━━━━━━━━━━━━━━━\u001b[0m \u001b[32m2.1/2.1 MB\u001b[0m \u001b[31m27.8 MB/s\u001b[0m eta \u001b[36m0:00:00\u001b[0m\n",
            "\u001b[?25hInstalling collected packages: pmdarima\n",
            "Successfully installed pmdarima-2.0.4\n"
          ]
        }
      ]
    },
    {
      "cell_type": "code",
      "source": [
        "ndiffs(df,test=\"adf\")"
      ],
      "metadata": {
        "colab": {
          "base_uri": "https://localhost:8080/"
        },
        "id": "1EzYbCmNR54o",
        "outputId": "0be04ce1-e84b-4e47-f7f7-6d64f27573f0"
      },
      "execution_count": null,
      "outputs": [
        {
          "output_type": "execute_result",
          "data": {
            "text/plain": [
              "1"
            ]
          },
          "metadata": {},
          "execution_count": 10
        }
      ]
    },
    {
      "cell_type": "code",
      "source": [
        "from statsmodels.graphics.tsaplots import plot_pacf,plot_acf"
      ],
      "metadata": {
        "id": "ZX12Vm2dR68g"
      },
      "execution_count": null,
      "outputs": []
    },
    {
      "cell_type": "code",
      "source": [
        "diff=df.diff().dropna()\n",
        "fig,(ax1,ax2)=plt.subplots(1,2,figsize=(16,4))\n",
        "ax1.plot(diff)\n",
        "ax1.set_title('Differenced once')\n",
        "ax2.set_ylim(0,1)\n",
        "plot_pacf(diff,ax=ax2);\n",
        "#4579"
      ],
      "metadata": {
        "colab": {
          "base_uri": "https://localhost:8080/",
          "height": 391
        },
        "id": "8GrVWfFeSHEl",
        "outputId": "5b5ca96e-4e4b-4c65-b54e-cdc46ef77f0c"
      },
      "execution_count": null,
      "outputs": [
        {
          "output_type": "display_data",
          "data": {
            "text/plain": [
              "<Figure size 1600x400 with 2 Axes>"
            ],
            "image/png": "[encoded data removed]"
          },
          "metadata": {}
        }
      ]
    },
    {
      "cell_type": "markdown",
      "source": [
        "p=7"
      ],
      "metadata": {
        "id": "pXwzC_OJT1vg"
      }
    },
    {
      "cell_type": "code",
      "source": [
        "diff=df.diff().dropna()\n",
        "fig,(ax1,ax2)=plt.subplots(1,2,figsize=(16,4))\n",
        "ax1.plot(diff)\n",
        "ax1.set_title('Differenced once')\n",
        "ax2.set_ylim(0,1)\n",
        "plot_acf(diff,ax=ax2);"
      ],
      "metadata": {
        "colab": {
          "base_uri": "https://localhost:8080/",
          "height": 391
        },
        "id": "EfevG2u1SM3p",
        "outputId": "dcf5e394-aba0-4740-fd36-c46f82ca28c3"
      },
      "execution_count": null,
      "outputs": [
        {
          "output_type": "display_data",
          "data": {
            "text/plain": [
              "<Figure size 1600x400 with 2 Axes>"
            ],
            "image/png": "[encoded data removed]"
          },
          "metadata": {}
        }
      ]
    },
    {
      "cell_type": "markdown",
      "source": [
        "q=2"
      ],
      "metadata": {
        "id": "7UMTK8mST3GF"
      }
    },
    {
      "cell_type": "code",
      "source": [
        "from statsmodels.tsa.arima.model import ARIMA\n",
        "model=ARIMA(df,order=(9,1,5))\n",
        "model_fit=model.fit()\n",
        "print(model_fit.summary())"
      ],
      "metadata": {
        "colab": {
          "base_uri": "https://localhost:8080/"
        },
        "id": "VmDKQnIvT4V1",
        "outputId": "bff3d8d6-25f5-4a2e-ad91-1a9b22211e28"
      },
      "execution_count": null,
      "outputs": [
        {
          "output_type": "stream",
          "name": "stderr",
          "text": [
            "/usr/local/lib/python3.10/dist-packages/statsmodels/base/model.py:607: ConvergenceWarning: Maximum Likelihood optimization failed to converge. Check mle_retvals\n",
            "  warnings.warn(\"Maximum Likelihood optimization failed to \"\n"
          ]
        },
        {
          "output_type": "stream",
          "name": "stdout",
          "text": [
            "                               SARIMAX Results                                \n",
            "==============================================================================\n",
            "Dep. Variable:                  close   No. Observations:                 9744\n",
            "Model:                 ARIMA(9, 1, 5)   Log Likelihood              -19358.659\n",
            "Date:                Sun, 17 Nov 2024   AIC                          38747.318\n",
            "Time:                        16:07:05   BIC                          38855.083\n",
            "Sample:                             0   HQIC                         38783.843\n",
            "                               - 9744                                         \n",
            "Covariance Type:                  opg                                         \n",
            "==============================================================================\n",
            "                 coef    std err          z      P>|z|      [0.025      0.975]\n",
            "------------------------------------------------------------------------------\n",
            "ar.L1         -0.6792      0.202     -3.366      0.001      -1.075      -0.284\n",
            "ar.L2         -0.3735      0.267     -1.397      0.163      -0.898       0.151\n",
            "ar.L3         -0.0657      0.271     -0.243      0.808      -0.596       0.465\n",
            "ar.L4          0.3452      0.219      1.578      0.115      -0.084       0.774\n",
            "ar.L5          0.4370      0.113      3.861      0.000       0.215       0.659\n",
            "ar.L6          0.0219      0.013      1.711      0.087      -0.003       0.047\n",
            "ar.L7          0.0092      0.008      1.114      0.265      -0.007       0.025\n",
            "ar.L8         -0.0612      0.006    -10.684      0.000      -0.072      -0.050\n",
            "ar.L9          0.0310      0.014      2.152      0.031       0.003       0.059\n",
            "ma.L1          0.6029      0.202      2.991      0.003       0.208       0.998\n",
            "ma.L2          0.2841      0.252      1.126      0.260      -0.211       0.779\n",
            "ma.L3          0.0170      0.243      0.070      0.944      -0.459       0.494\n",
            "ma.L4         -0.3643      0.190     -1.922      0.055      -0.736       0.007\n",
            "ma.L5         -0.3812      0.087     -4.361      0.000      -0.553      -0.210\n",
            "sigma2         3.1185      0.012    261.929      0.000       3.095       3.142\n",
            "===================================================================================\n",
            "Ljung-Box (L1) (Q):                   0.00   Jarque-Bera (JB):            326489.32\n",
            "Prob(Q):                              0.95   Prob(JB):                         0.00\n",
            "Heteroskedasticity (H):             517.63   Skew:                            -0.66\n",
            "Prob(H) (two-sided):                  0.00   Kurtosis:                        31.33\n",
            "===================================================================================\n",
            "\n",
            "Warnings:\n",
            "[1] Covariance matrix calculated using the outer product of gradients (complex-step).\n"
          ]
        }
      ]
    },
    {
      "cell_type": "code",
      "source": [
        "residuals=pd.DataFrame(model_fit.resid)\n",
        "fig,(ax1,ax2)=plt.subplots(1,2,figsize=(16,4))\n",
        "ax1.plot(residuals)\n",
        "ax2.hist(residuals,density=True)\n",
        "plt.show()"
      ],
      "metadata": {
        "colab": {
          "base_uri": "https://localhost:8080/",
          "height": 370
        },
        "id": "i25Ai0ilVEtW",
        "outputId": "9db50fef-9989-4af4-b769-b5232e718bb0"
      },
      "execution_count": null,
      "outputs": [
        {
          "output_type": "display_data",
          "data": {
            "text/plain": [
              "<Figure size 1600x400 with 2 Axes>"
            ],
            "image/png": "[encoded data removed]"
          },
          "metadata": {}
        }
      ]
    },
    {
      "cell_type": "code",
      "source": [
        "from statsmodels.graphics.tsaplots import plot_predict\n",
        "plot_predict(result=model_fit,start=1,end=60,dynamic=False);"
      ],
      "metadata": {
        "colab": {
          "base_uri": "https://localhost:8080/",
          "height": 430
        },
        "id": "vppLwwl0Vhwu",
        "outputId": "4b224684-8127-4587-ff1d-48f9b40f6281"
      },
      "execution_count": null,
      "outputs": [
        {
          "output_type": "display_data",
          "data": {
            "text/plain": [
              "<Figure size 640x480 with 1 Axes>"
            ],
            "image/png": "[encoded data removed]"
          },
          "metadata": {}
        }
      ]
    },
    {
      "cell_type": "code",
      "source": [
        "n=int(len(df)*0.8)\n",
        "train=df[:n]\n",
        "test=df[n:]\n",
        "print(test)\n",
        "print"
      ],
      "metadata": {
        "id": "uYmiUDMaY99C",
        "colab": {
          "base_uri": "https://localhost:8080/"
        },
        "outputId": "5af9b61e-61c1-4a27-abd9-96b14e0fc5cc"
      },
      "execution_count": null,
      "outputs": [
        {
          "output_type": "stream",
          "name": "stdout",
          "text": [
            "6820     23.6903\n",
            "6821     23.4929\n",
            "6822     23.5217\n",
            "6823     23.6081\n",
            "6824     23.5176\n",
            "          ...   \n",
            "9739    408.4600\n",
            "9740    411.4600\n",
            "9741    420.1800\n",
            "9742    425.4300\n",
            "9743    422.5400\n",
            "Name: close, Length: 2924, dtype: float64\n",
            "0        0.0603\n",
            "1        0.0624\n",
            "2        0.0635\n",
            "3        0.0619\n",
            "4        0.0608\n",
            "         ...   \n",
            "6815    23.1639\n",
            "6816    23.1597\n",
            "6817    23.3366\n",
            "6818    23.5299\n",
            "6819    23.5340\n",
            "Name: close, Length: 6820, dtype: float64\n"
          ]
        }
      ]
    },
    {
      "cell_type": "code",
      "source": [
        "model=ARIMA(train,order=(9,1,9))\n",
        "result=model.fit()\n",
        "print(result.summary())"
      ],
      "metadata": {
        "id": "jC1UajP2ZQtf",
        "colab": {
          "base_uri": "https://localhost:8080/"
        },
        "outputId": "6ad6f45f-d624-4aa7-90be-4ee8d9550f3b"
      },
      "execution_count": null,
      "outputs": [
        {
          "output_type": "stream",
          "name": "stderr",
          "text": [
            "/usr/local/lib/python3.10/dist-packages/statsmodels/base/model.py:607: ConvergenceWarning: Maximum Likelihood optimization failed to converge. Check mle_retvals\n",
            "  warnings.warn(\"Maximum Likelihood optimization failed to \"\n"
          ]
        },
        {
          "output_type": "stream",
          "name": "stdout",
          "text": [
            "                               SARIMAX Results                                \n",
            "==============================================================================\n",
            "Dep. Variable:                  close   No. Observations:                 6820\n",
            "Model:                 ARIMA(9, 1, 9)   Log Likelihood               -1903.513\n",
            "Date:                Sun, 17 Nov 2024   AIC                           3845.026\n",
            "Time:                        16:30:41   BIC                           3974.748\n",
            "Sample:                             0   HQIC                          3889.785\n",
            "                               - 6820                                         \n",
            "Covariance Type:                  opg                                         \n",
            "==============================================================================\n",
            "                 coef    std err          z      P>|z|      [0.025      0.975]\n",
            "------------------------------------------------------------------------------\n",
            "ar.L1          0.4822      0.119      4.051      0.000       0.249       0.715\n",
            "ar.L2          0.4270      0.137      3.111      0.002       0.158       0.696\n",
            "ar.L3         -0.5475      0.123     -4.458      0.000      -0.788      -0.307\n",
            "ar.L4          0.1325      0.108      1.222      0.222      -0.080       0.345\n",
            "ar.L5          0.5837      0.079      7.395      0.000       0.429       0.738\n",
            "ar.L6         -0.4956      0.113     -4.398      0.000      -0.716      -0.275\n",
            "ar.L7          0.0871      0.108      0.805      0.421      -0.125       0.299\n",
            "ar.L8          0.3393      0.081      4.194      0.000       0.181       0.498\n",
            "ar.L9         -0.6048      0.069     -8.719      0.000      -0.741      -0.469\n",
            "ma.L1         -0.5102      0.119     -4.277      0.000      -0.744      -0.276\n",
            "ma.L2         -0.4043      0.139     -2.906      0.004      -0.677      -0.132\n",
            "ma.L3          0.5256      0.124      4.253      0.000       0.283       0.768\n",
            "ma.L4         -0.1691      0.104     -1.634      0.102      -0.372       0.034\n",
            "ma.L5         -0.5341      0.076     -7.033      0.000      -0.683      -0.385\n",
            "ma.L6          0.5297      0.106      5.017      0.000       0.323       0.737\n",
            "ma.L7         -0.1232      0.107     -1.150      0.250      -0.333       0.087\n",
            "ma.L8         -0.3209      0.084     -3.834      0.000      -0.485      -0.157\n",
            "ma.L9          0.6180      0.070      8.778      0.000       0.480       0.756\n",
            "sigma2         0.1024      0.001    151.817      0.000       0.101       0.104\n",
            "===================================================================================\n",
            "Ljung-Box (L1) (Q):                   0.40   Jarque-Bera (JB):             97205.48\n",
            "Prob(Q):                              0.52   Prob(JB):                         0.00\n",
            "Heteroskedasticity (H):             214.27   Skew:                            -0.35\n",
            "Prob(H) (two-sided):                  0.00   Kurtosis:                        21.48\n",
            "===================================================================================\n",
            "\n",
            "Warnings:\n",
            "[1] Covariance matrix calculated using the outer product of gradients (complex-step).\n"
          ]
        }
      ]
    },
    {
      "cell_type": "code",
      "source": [
        "step=500\n",
        "fc=result.forecast(steps=step)\n",
        "forecast_result=result.get_forecast()\n",
        "ci=forecast_result.conf_int()\n",
        "print(\"FC\",fc)\n",
        "print(ci)\n",
        "result.summary()"
      ],
      "metadata": {
        "colab": {
          "base_uri": "https://localhost:8080/",
          "height": 1000
        },
        "id": "HWqytjFiXAEe",
        "outputId": "3eb217c4-4043-4821-fe6f-e74399999d3f"
      },
      "execution_count": null,
      "outputs": [
        {
          "output_type": "stream",
          "name": "stdout",
          "text": [
            "FC 6820    23.524194\n",
            "6821    23.505570\n",
            "6822    23.509162\n",
            "6823    23.506467\n",
            "6824    23.529039\n",
            "          ...    \n",
            "7315    23.579845\n",
            "7316    23.580072\n",
            "7317    23.579586\n",
            "7318    23.580169\n",
            "7319    23.579683\n",
            "Name: predicted_mean, Length: 500, dtype: float64\n",
            "      lower close  upper close\n",
            "6820    22.896897     24.15149\n"
          ]
        },
        {
          "output_type": "execute_result",
          "data": {
            "text/plain": [
              "<class 'statsmodels.iolib.summary.Summary'>\n",
              "\"\"\"\n",
              "                               SARIMAX Results                                \n",
              "==============================================================================\n",
              "Dep. Variable:                  close   No. Observations:                 6820\n",
              "Model:                 ARIMA(9, 1, 9)   Log Likelihood               -1903.513\n",
              "Date:                Sun, 17 Nov 2024   AIC                           3845.026\n",
              "Time:                        16:32:29   BIC                           3974.748\n",
              "Sample:                             0   HQIC                          3889.785\n",
              "                               - 6820                                         \n",
              "Covariance Type:                  opg                                         \n",
              "==============================================================================\n",
              "                 coef    std err          z      P>|z|      [0.025      0.975]\n",
              "------------------------------------------------------------------------------\n",
              "ar.L1          0.4822      0.119      4.051      0.000       0.249       0.715\n",
              "ar.L2          0.4270      0.137      3.111      0.002       0.158       0.696\n",
              "ar.L3         -0.5475      0.123     -4.458      0.000      -0.788      -0.307\n",
              "ar.L4          0.1325      0.108      1.222      0.222      -0.080       0.345\n",
              "ar.L5          0.5837      0.079      7.395      0.000       0.429       0.738\n",
              "ar.L6         -0.4956      0.113     -4.398      0.000      -0.716      -0.275\n",
              "ar.L7          0.0871      0.108      0.805      0.421      -0.125       0.299\n",
              "ar.L8          0.3393      0.081      4.194      0.000       0.181       0.498\n",
              "ar.L9         -0.6048      0.069     -8.719      0.000      -0.741      -0.469\n",
              "ma.L1         -0.5102      0.119     -4.277      0.000      -0.744      -0.276\n",
              "ma.L2         -0.4043      0.139     -2.906      0.004      -0.677      -0.132\n",
              "ma.L3          0.5256      0.124      4.253      0.000       0.283       0.768\n",
              "ma.L4         -0.1691      0.104     -1.634      0.102      -0.372       0.034\n",
              "ma.L5         -0.5341      0.076     -7.033      0.000      -0.683      -0.385\n",
              "ma.L6          0.5297      0.106      5.017      0.000       0.323       0.737\n",
              "ma.L7         -0.1232      0.107     -1.150      0.250      -0.333       0.087\n",
              "ma.L8         -0.3209      0.084     -3.834      0.000      -0.485      -0.157\n",
              "ma.L9          0.6180      0.070      8.778      0.000       0.480       0.756\n",
              "sigma2         0.1024      0.001    151.817      0.000       0.101       0.104\n",
              "===================================================================================\n",
              "Ljung-Box (L1) (Q):                   0.40   Jarque-Bera (JB):             97205.48\n",
              "Prob(Q):                              0.52   Prob(JB):                         0.00\n",
              "Heteroskedasticity (H):             214.27   Skew:                            -0.35\n",
              "Prob(H) (two-sided):                  0.00   Kurtosis:                        21.48\n",
              "===================================================================================\n",
              "\n",
              "Warnings:\n",
              "[1] Covariance matrix calculated using the outer product of gradients (complex-step).\n",
              "\"\"\""
            ],
            "text/html": [
              "<table class=\"simpletable\">\n",
              "<caption>SARIMAX Results</caption>\n",
              "<tr>\n",
              "  <th>Dep. Variable:</th>         <td>close</td>      <th>  No. Observations:  </th>   <td>6820</td>   \n",
              "</tr>\n",
              "<tr>\n",
              "  <th>Model:</th>            <td>ARIMA(9, 1, 9)</td>  <th>  Log Likelihood     </th> <td>-1903.513</td>\n",
              "</tr>\n",
              "<tr>\n",
              "  <th>Date:</th>            <td>Sun, 17 Nov 2024</td> <th>  AIC                </th> <td>3845.026</td> \n",
              "</tr>\n",
              "<tr>\n",
              "  <th>Time:</th>                <td>16:32:29</td>     <th>  BIC                </th> <td>3974.748</td> \n",
              "</tr>\n",
              "<tr>\n",
              "  <th>Sample:</th>                  <td>0</td>        <th>  HQIC               </th> <td>3889.785</td> \n",
              "</tr>\n",
              "<tr>\n",
              "  <th></th>                      <td> - 6820</td>     <th>                     </th>     <td> </td>    \n",
              "</tr>\n",
              "<tr>\n",
              "  <th>Covariance Type:</th>        <td>opg</td>       <th>                     </th>     <td> </td>    \n",
              "</tr>\n",
              "</table>\n",
              "<table class=\"simpletable\">\n",
              "<tr>\n",
              "     <td></td>       <th>coef</th>     <th>std err</th>      <th>z</th>      <th>P>|z|</th>  <th>[0.025</th>    <th>0.975]</th>  \n",
              "</tr>\n",
              "<tr>\n",
              "  <th>ar.L1</th>  <td>    0.4822</td> <td>    0.119</td> <td>    4.051</td> <td> 0.000</td> <td>    0.249</td> <td>    0.715</td>\n",
              "</tr>\n",
              "<tr>\n",
              "  <th>ar.L2</th>  <td>    0.4270</td> <td>    0.137</td> <td>    3.111</td> <td> 0.002</td> <td>    0.158</td> <td>    0.696</td>\n",
              "</tr>\n",
              "<tr>\n",
              "  <th>ar.L3</th>  <td>   -0.5475</td> <td>    0.123</td> <td>   -4.458</td> <td> 0.000</td> <td>   -0.788</td> <td>   -0.307</td>\n",
              "</tr>\n",
              "<tr>\n",
              "  <th>ar.L4</th>  <td>    0.1325</td> <td>    0.108</td> <td>    1.222</td> <td> 0.222</td> <td>   -0.080</td> <td>    0.345</td>\n",
              "</tr>\n",
              "<tr>\n",
              "  <th>ar.L5</th>  <td>    0.5837</td> <td>    0.079</td> <td>    7.395</td> <td> 0.000</td> <td>    0.429</td> <td>    0.738</td>\n",
              "</tr>\n",
              "<tr>\n",
              "  <th>ar.L6</th>  <td>   -0.4956</td> <td>    0.113</td> <td>   -4.398</td> <td> 0.000</td> <td>   -0.716</td> <td>   -0.275</td>\n",
              "</tr>\n",
              "<tr>\n",
              "  <th>ar.L7</th>  <td>    0.0871</td> <td>    0.108</td> <td>    0.805</td> <td> 0.421</td> <td>   -0.125</td> <td>    0.299</td>\n",
              "</tr>\n",
              "<tr>\n",
              "  <th>ar.L8</th>  <td>    0.3393</td> <td>    0.081</td> <td>    4.194</td> <td> 0.000</td> <td>    0.181</td> <td>    0.498</td>\n",
              "</tr>\n",
              "<tr>\n",
              "  <th>ar.L9</th>  <td>   -0.6048</td> <td>    0.069</td> <td>   -8.719</td> <td> 0.000</td> <td>   -0.741</td> <td>   -0.469</td>\n",
              "</tr>\n",
              "<tr>\n",
              "  <th>ma.L1</th>  <td>   -0.5102</td> <td>    0.119</td> <td>   -4.277</td> <td> 0.000</td> <td>   -0.744</td> <td>   -0.276</td>\n",
              "</tr>\n",
              "<tr>\n",
              "  <th>ma.L2</th>  <td>   -0.4043</td> <td>    0.139</td> <td>   -2.906</td> <td> 0.004</td> <td>   -0.677</td> <td>   -0.132</td>\n",
              "</tr>\n",
              "<tr>\n",
              "  <th>ma.L3</th>  <td>    0.5256</td> <td>    0.124</td> <td>    4.253</td> <td> 0.000</td> <td>    0.283</td> <td>    0.768</td>\n",
              "</tr>\n",
              "<tr>\n",
              "  <th>ma.L4</th>  <td>   -0.1691</td> <td>    0.104</td> <td>   -1.634</td> <td> 0.102</td> <td>   -0.372</td> <td>    0.034</td>\n",
              "</tr>\n",
              "<tr>\n",
              "  <th>ma.L5</th>  <td>   -0.5341</td> <td>    0.076</td> <td>   -7.033</td> <td> 0.000</td> <td>   -0.683</td> <td>   -0.385</td>\n",
              "</tr>\n",
              "<tr>\n",
              "  <th>ma.L6</th>  <td>    0.5297</td> <td>    0.106</td> <td>    5.017</td> <td> 0.000</td> <td>    0.323</td> <td>    0.737</td>\n",
              "</tr>\n",
              "<tr>\n",
              "  <th>ma.L7</th>  <td>   -0.1232</td> <td>    0.107</td> <td>   -1.150</td> <td> 0.250</td> <td>   -0.333</td> <td>    0.087</td>\n",
              "</tr>\n",
              "<tr>\n",
              "  <th>ma.L8</th>  <td>   -0.3209</td> <td>    0.084</td> <td>   -3.834</td> <td> 0.000</td> <td>   -0.485</td> <td>   -0.157</td>\n",
              "</tr>\n",
              "<tr>\n",
              "  <th>ma.L9</th>  <td>    0.6180</td> <td>    0.070</td> <td>    8.778</td> <td> 0.000</td> <td>    0.480</td> <td>    0.756</td>\n",
              "</tr>\n",
              "<tr>\n",
              "  <th>sigma2</th> <td>    0.1024</td> <td>    0.001</td> <td>  151.817</td> <td> 0.000</td> <td>    0.101</td> <td>    0.104</td>\n",
              "</tr>\n",
              "</table>\n",
              "<table class=\"simpletable\">\n",
              "<tr>\n",
              "  <th>Ljung-Box (L1) (Q):</th>      <td>0.40</td>  <th>  Jarque-Bera (JB):  </th> <td>97205.48</td>\n",
              "</tr>\n",
              "<tr>\n",
              "  <th>Prob(Q):</th>                 <td>0.52</td>  <th>  Prob(JB):          </th>   <td>0.00</td>  \n",
              "</tr>\n",
              "<tr>\n",
              "  <th>Heteroskedasticity (H):</th> <td>214.27</td> <th>  Skew:              </th>   <td>-0.35</td> \n",
              "</tr>\n",
              "<tr>\n",
              "  <th>Prob(H) (two-sided):</th>     <td>0.00</td>  <th>  Kurtosis:          </th>   <td>21.48</td> \n",
              "</tr>\n",
              "</table><br/><br/>Warnings:<br/>[1] Covariance matrix calculated using the outer product of gradients (complex-step)."
            ],
            "text/latex": "\\begin{center}\n\\begin{tabular}{lclc}\n\\toprule\n\\textbf{Dep. Variable:}          &      close       & \\textbf{  No. Observations:  } &    6820     \\\\\n\\textbf{Model:}                  &  ARIMA(9, 1, 9)  & \\textbf{  Log Likelihood     } & -1903.513   \\\\\n\\textbf{Date:}                   & Sun, 17 Nov 2024 & \\textbf{  AIC                } &  3845.026   \\\\\n\\textbf{Time:}                   &     16:32:29     & \\textbf{  BIC                } &  3974.748   \\\\\n\\textbf{Sample:}                 &        0         & \\textbf{  HQIC               } &  3889.785   \\\\\n\\textbf{}                        &      - 6820      & \\textbf{                     } &             \\\\\n\\textbf{Covariance Type:}        &       opg        & \\textbf{                     } &             \\\\\n\\bottomrule\n\\end{tabular}\n\\begin{tabular}{lcccccc}\n                & \\textbf{coef} & \\textbf{std err} & \\textbf{z} & \\textbf{P$> |$z$|$} & \\textbf{[0.025} & \\textbf{0.975]}  \\\\\n\\midrule\n\\textbf{ar.L1}  &       0.4822  &        0.119     &     4.051  &         0.000        &        0.249    &        0.715     \\\\\n\\textbf{ar.L2}  &       0.4270  &        0.137     &     3.111  &         0.002        &        0.158    &        0.696     \\\\\n\\textbf{ar.L3}  &      -0.5475  &        0.123     &    -4.458  &         0.000        &       -0.788    &       -0.307     \\\\\n\\textbf{ar.L4}  &       0.1325  &        0.108     &     1.222  &         0.222        &       -0.080    &        0.345     \\\\\n\\textbf{ar.L5}  &       0.5837  &        0.079     &     7.395  &         0.000        &        0.429    &        0.738     \\\\\n\\textbf{ar.L6}  &      -0.4956  &        0.113     &    -4.398  &         0.000        &       -0.716    &       -0.275     \\\\\n\\textbf{ar.L7}  &       0.0871  &        0.108     &     0.805  &         0.421        &       -0.125    &        0.299     \\\\\n\\textbf{ar.L8}  &       0.3393  &        0.081     &     4.194  &         0.000        &        0.181    &        0.498     \\\\\n\\textbf{ar.L9}  &      -0.6048  &        0.069     &    -8.719  &         0.000        &       -0.741    &       -0.469     \\\\\n\\textbf{ma.L1}  &      -0.5102  &        0.119     &    -4.277  &         0.000        &       -0.744    &       -0.276     \\\\\n\\textbf{ma.L2}  &      -0.4043  &        0.139     &    -2.906  &         0.004        &       -0.677    &       -0.132     \\\\\n\\textbf{ma.L3}  &       0.5256  &        0.124     &     4.253  &         0.000        &        0.283    &        0.768     \\\\\n\\textbf{ma.L4}  &      -0.1691  &        0.104     &    -1.634  &         0.102        &       -0.372    &        0.034     \\\\\n\\textbf{ma.L5}  &      -0.5341  &        0.076     &    -7.033  &         0.000        &       -0.683    &       -0.385     \\\\\n\\textbf{ma.L6}  &       0.5297  &        0.106     &     5.017  &         0.000        &        0.323    &        0.737     \\\\\n\\textbf{ma.L7}  &      -0.1232  &        0.107     &    -1.150  &         0.250        &       -0.333    &        0.087     \\\\\n\\textbf{ma.L8}  &      -0.3209  &        0.084     &    -3.834  &         0.000        &       -0.485    &       -0.157     \\\\\n\\textbf{ma.L9}  &       0.6180  &        0.070     &     8.778  &         0.000        &        0.480    &        0.756     \\\\\n\\textbf{sigma2} &       0.1024  &        0.001     &   151.817  &         0.000        &        0.101    &        0.104     \\\\\n\\bottomrule\n\\end{tabular}\n\\begin{tabular}{lclc}\n\\textbf{Ljung-Box (L1) (Q):}     &  0.40  & \\textbf{  Jarque-Bera (JB):  } & 97205.48  \\\\\n\\textbf{Prob(Q):}                &  0.52  & \\textbf{  Prob(JB):          } &   0.00    \\\\\n\\textbf{Heteroskedasticity (H):} & 214.27 & \\textbf{  Skew:              } &  -0.35    \\\\\n\\textbf{Prob(H) (two-sided):}    &  0.00  & \\textbf{  Kurtosis:          } &  21.48    \\\\\n\\bottomrule\n\\end{tabular}\n%\\caption{SARIMAX Results}\n\\end{center}\n\nWarnings: \\newline\n [1] Covariance matrix calculated using the outer product of gradients (complex-step)."
          },
          "metadata": {},
          "execution_count": 50
        }
      ]
    },
    {
      "cell_type": "code",
      "source": [
        "#fc=pd.Series(fc,index=test[:step].index)\n",
        "lower=pd.Series(ci.iloc[:,0],index=test[:step].index)\n",
        "upper=pd.Series(ci.iloc[:,1],index=test[:step].index)\n",
        "\n",
        "print(test[:step])\n",
        "fc\n"
      ],
      "metadata": {
        "id": "DJWMUbpRYx_Y",
        "colab": {
          "base_uri": "https://localhost:8080/",
          "height": 797
        },
        "outputId": "56fda940-0325-4b6a-95db-be1fc1302804"
      },
      "execution_count": null,
      "outputs": [
        {
          "output_type": "stream",
          "name": "stdout",
          "text": [
            "6820    23.6903\n",
            "6821    23.4929\n",
            "6822    23.5217\n",
            "6823    23.6081\n",
            "6824    23.5176\n",
            "6825    24.3566\n",
            "6826    24.9077\n",
            "6827    23.8014\n",
            "6828    23.6821\n",
            "6829    23.5998\n",
            "6830    23.8301\n",
            "6831    23.7109\n",
            "6832    23.6821\n",
            "6833    24.4841\n",
            "6834    25.3601\n",
            "6835    25.1710\n",
            "6836    26.1251\n",
            "6837    26.2732\n",
            "6838    26.1498\n",
            "6839    26.8243\n",
            "6840    27.2274\n",
            "6841    26.9148\n",
            "6842    27.2768\n",
            "6843    27.5482\n",
            "6844    27.7621\n",
            "6845    27.4001\n",
            "6846    27.1369\n",
            "6847    26.8655\n",
            "6848    26.8901\n",
            "6849    27.1698\n",
            "Name: close, dtype: float64\n"
          ]
        },
        {
          "output_type": "execute_result",
          "data": {
            "text/plain": [
              "6845    23.549016\n",
              "6846    23.550405\n",
              "6847    23.547526\n",
              "6848    23.545898\n",
              "6849    23.555673\n",
              "Name: predicted_mean, dtype: float64"
            ],
            "text/html": [
              "<div>\n",
              "<style scoped>\n",
              "    .dataframe tbody tr th:only-of-type {\n",
              "        vertical-align: middle;\n",
              "    }\n",
              "\n",
              "    .dataframe tbody tr th {\n",
              "        vertical-align: top;\n",
              "    }\n",
              "\n",
              "    .dataframe thead th {\n",
              "        text-align: right;\n",
              "    }\n",
              "</style>\n",
              "<table border=\"1\" class=\"dataframe\">\n",
              "  <thead>\n",
              "    <tr style=\"text-align: right;\">\n",
              "      <th></th>\n",
              "      <th>predicted_mean</th>\n",
              "    </tr>\n",
              "  </thead>\n",
              "  <tbody>\n",
              "    <tr>\n",
              "      <th>6845</th>\n",
              "      <td>23.549016</td>\n",
              "    </tr>\n",
              "    <tr>\n",
              "      <th>6846</th>\n",
              "      <td>23.550405</td>\n",
              "    </tr>\n",
              "    <tr>\n",
              "      <th>6847</th>\n",
              "      <td>23.547526</td>\n",
              "    </tr>\n",
              "    <tr>\n",
              "      <th>6848</th>\n",
              "      <td>23.545898</td>\n",
              "    </tr>\n",
              "    <tr>\n",
              "      <th>6849</th>\n",
              "      <td>23.555673</td>\n",
              "    </tr>\n",
              "  </tbody>\n",
              "</table>\n",
              "</div><br><label><b>dtype:</b> float64</label>"
            ]
          },
          "metadata": {},
          "execution_count": 49
        }
      ]
    },
    {
      "cell_type": "code",
      "source": [
        "plt.figure(figsize=(16,8))\n",
        "plt.plot(test[:step],label=\"Actual\",color='red')\n",
        "plt.plot(fc,label=\"forecast\",color='blue',linewidth=4)\n",
        "plt.fill_between(lower.index,lower,upper,color='k',alpha=0.1)\n",
        "plt.title(\"Forecast VS Actual\")\n",
        "plt.legend(loc=\"upper left\")\n",
        "plt.show()"
      ],
      "metadata": {
        "colab": {
          "base_uri": "https://localhost:8080/",
          "height": 699
        },
        "id": "2CeCAcD9Z1I4",
        "outputId": "8bd0037c-4eb7-49a8-d073-3a97c1912b2b"
      },
      "execution_count": null,
      "outputs": [
        {
          "output_type": "display_data",
          "data": {
            "text/plain": [
              "<Figure size 1600x800 with 1 Axes>"
            ],
            "image/png": "[encoded data removed]"
          },
          "metadata": {}
        }
      ]
    },
    {
      "cell_type": "code",
      "source": [],
      "metadata": {
        "id": "YuYwnSHYBtJi"
      },
      "execution_count": null,
      "outputs": []
    }
  ]
}